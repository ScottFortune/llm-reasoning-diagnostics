{
 "cells": [
  {
   "cell_type": "markdown",
   "id": "14bbaae4",
   "metadata": {},
   "source": [
    "# Intialize environment"
   ]
  },
  {
   "cell_type": "code",
   "execution_count": 1,
   "id": "517dbe66",
   "metadata": {},
   "outputs": [
    {
     "name": "stdout",
     "output_type": "stream",
     "text": [
      "✅ Project environment initialized. Ready to load MATH and GSM8K datasets.\n"
     ]
    }
   ],
   "source": [
    "\"\"\"\n",
    "Notebook: 01_generate_and_evaluate.ipynb\n",
    "Project: LLM Reasoning Diagnostics (Math Edition)\n",
    "Author: Scott Fortune\n",
    "\n",
    "Purpose:\n",
    "- Load benchmark math datasets (MATH & GSM8K)\n",
    "- Generate model outputs using GPT-style LLMs (e.g., GPT-4, Claude)\n",
    "- Prepare raw problem-output pairs for diagnostic error classification\n",
    "\n",
    "Dependencies:\n",
    "- datasets (Hugging Face)\n",
    "- openai (for GPT-4 API access)\n",
    "- pandas (for output formatting and analysis)\n",
    "- langchain (for LLM integration)\n",
    "\n",
    "Next steps:\n",
    "- Filter/normalize problems into unified format\n",
    "- Prompt LLMs with CoT reasoning prompts\n",
    "- Save model completions for further analysis\n",
    "\"\"\"\n",
    "\n",
    "# Install dependencies if needed\n",
    "try:\n",
    "    import pandas as pd\n",
    "    from datasets import load_dataset\n",
    "    from dotenv import load_dotenv\n",
    "except ImportError:\n",
    "    %pip install pandas datasets dotenv --quiet\n",
    "    import pandas as pd\n",
    "    from datasets import load_dataset\n",
    "\n",
    "# Install LangChain and langchain_community if needed\n",
    "try:\n",
    "    from langchain.llms import OpenAI\n",
    "except ImportError:\n",
    "    %pip install langchain langchain_community openai--quiet\n",
    "    from langchain.llms import OpenAI\n",
    "\n",
    "# Setup OpenAI API (configure via env var or notebook cell if running interactively)\n",
    "import os\n",
    "import sys\n",
    "from dotenv import load_dotenv\n",
    "\n",
    "load_dotenv()\n",
    "\n",
    "if \"OPENAI_API_KEY\" in os.environ:\n",
    "    api_key = os.environ[\"OPENAI_API_KEY\"]\n",
    "else:\n",
    "    print(\"Add OPENAI_API_KEY\")  # Replace with your key or use `!export` in shell\n",
    "    sys.exit(1)\n",
    "\n",
    "print(\"✅ Project environment initialized. Ready to load MATH and GSM8K datasets.\")\n"
   ]
  },
  {
   "cell_type": "markdown",
   "id": "cede8d25",
   "metadata": {},
   "source": [
    "# Load GSM8K and MATH datasets"
   ]
  },
  {
   "cell_type": "code",
   "execution_count": 2,
   "id": "6c29a3ec",
   "metadata": {},
   "outputs": [
    {
     "name": "stdout",
     "output_type": "stream",
     "text": [
      "GSM8K train samples: 7473\n",
      "GSM8K example:\n",
      "{'question': 'Natalia sold clips to 48 of her friends in April, and then she sold half as many clips in May. How many clips did Natalia sell altogether in April and May?', 'answer': 'Natalia sold 48/2 = <<48/2=24>>24 clips in May.\\nNatalia sold 48+24 = <<48+24=72>>72 clips altogether in April and May.\\n#### 72'}\n",
      "\n",
      "MATH train samples: 12500\n",
      "MATH example:\n",
      "{'problem': 'Let \\\\[f(x) = \\\\left\\\\{\\n\\\\begin{array}{cl} ax+3, &\\\\text{ if }x>2, \\\\\\\\\\nx-5 &\\\\text{ if } -2 \\\\le x \\\\le 2, \\\\\\\\\\n2x-b &\\\\text{ if } x <-2.\\n\\\\end{array}\\n\\\\right.\\\\]Find $a+b$ if the piecewise function is continuous (which means that its graph can be drawn without lifting your pencil from the paper).', 'level': 'Level 5', 'type': 'Algebra', 'solution': 'For the piecewise function to be continuous, the cases must \"meet\" at $2$ and $-2$. For example, $ax+3$ and $x-5$ must be equal when $x=2$. This implies $a(2)+3=2-5$, which we solve to get $2a=-6 \\\\Rightarrow a=-3$. Similarly, $x-5$ and $2x-b$ must be equal when $x=-2$. Substituting, we get $-2-5=2(-2)-b$, which implies $b=3$. So $a+b=-3+3=\\\\boxed{0}$.'}\n"
     ]
    }
   ],
   "source": [
    "from datasets import load_dataset\n",
    "\n",
    "# Load GSM8K dataset (Grade School Math Word Problems)\n",
    "gsm8k = load_dataset(\"gsm8k\", \"main\")  # subsets: 'train', 'test'\n",
    "\n",
    "# Load MATH dataset (High School Competition-Level Problems)\n",
    "# Note: Requires `datasets` >=2.9.0 to avoid split issues\n",
    "math = load_dataset(\"qwedsacf/competition_math\")  # subsets: 'train', 'test'\n",
    "\n",
    "# Preview a few examples from each\n",
    "print(f\"GSM8K train samples: {len(gsm8k['train'])}\")\n",
    "print(\"GSM8K example:\")\n",
    "print(gsm8k['train'][0])\n",
    "\n",
    "print(f\"\\nMATH train samples: {len(math['train'])}\")\n",
    "print(\"MATH example:\")\n",
    "print(math['train'][0])\n"
   ]
  },
  {
   "cell_type": "markdown",
   "id": "ce91e9fd",
   "metadata": {},
   "source": [
    "# Normalize GSM8K and MATH to unified format"
   ]
  },
  {
   "cell_type": "code",
   "execution_count": 3,
   "id": "e41433e6",
   "metadata": {},
   "outputs": [
    {
     "name": "stdout",
     "output_type": "stream",
     "text": [
      "✅ Combined dataset with 19973 samples\n"
     ]
    },
    {
     "data": {
      "text/html": [
       "<div>\n",
       "<style scoped>\n",
       "    .dataframe tbody tr th:only-of-type {\n",
       "        vertical-align: middle;\n",
       "    }\n",
       "\n",
       "    .dataframe tbody tr th {\n",
       "        vertical-align: top;\n",
       "    }\n",
       "\n",
       "    .dataframe thead th {\n",
       "        text-align: right;\n",
       "    }\n",
       "</style>\n",
       "<table border=\"1\" class=\"dataframe\">\n",
       "  <thead>\n",
       "    <tr style=\"text-align: right;\">\n",
       "      <th></th>\n",
       "      <th>source</th>\n",
       "      <th>id</th>\n",
       "      <th>question</th>\n",
       "      <th>ground_truth</th>\n",
       "    </tr>\n",
       "  </thead>\n",
       "  <tbody>\n",
       "    <tr>\n",
       "      <th>5455</th>\n",
       "      <td>gsm8k</td>\n",
       "      <td>gsm8k_5455</td>\n",
       "      <td>Hank gave his wife, Delphine, a box of 24 choc...</td>\n",
       "      <td>Twice as many chocolates as she ate the first ...</td>\n",
       "    </tr>\n",
       "    <tr>\n",
       "      <th>7095</th>\n",
       "      <td>gsm8k</td>\n",
       "      <td>gsm8k_7095</td>\n",
       "      <td>There are 50 oysters on the rocks at La Push P...</td>\n",
       "      <td>The first day he saw 50 oysters + 72 crabs = &lt;...</td>\n",
       "    </tr>\n",
       "    <tr>\n",
       "      <th>1530</th>\n",
       "      <td>gsm8k</td>\n",
       "      <td>gsm8k_1530</td>\n",
       "      <td>Miles is going to spend 1/6 of a day reading. ...</td>\n",
       "      <td>Miles will read for 4 hours because 24 x (1/6)...</td>\n",
       "    </tr>\n",
       "  </tbody>\n",
       "</table>\n",
       "</div>"
      ],
      "text/plain": [
       "     source          id                                           question  \\\n",
       "5455  gsm8k  gsm8k_5455  Hank gave his wife, Delphine, a box of 24 choc...   \n",
       "7095  gsm8k  gsm8k_7095  There are 50 oysters on the rocks at La Push P...   \n",
       "1530  gsm8k  gsm8k_1530  Miles is going to spend 1/6 of a day reading. ...   \n",
       "\n",
       "                                           ground_truth  \n",
       "5455  Twice as many chocolates as she ate the first ...  \n",
       "7095  The first day he saw 50 oysters + 72 crabs = <...  \n",
       "1530  Miles will read for 4 hours because 24 x (1/6)...  "
      ]
     },
     "execution_count": 3,
     "metadata": {},
     "output_type": "execute_result"
    }
   ],
   "source": [
    "import pandas as pd\n",
    "\n",
    "# Normalize GSM8K (uses 'question' and 'answer' fields)\n",
    "gsm8k_data = [\n",
    "    {\n",
    "        \"source\": \"gsm8k\",\n",
    "        \"id\": f\"gsm8k_{i}\",\n",
    "        \"question\": item[\"question\"],\n",
    "        \"ground_truth\": item[\"answer\"],\n",
    "    }\n",
    "    for i, item in enumerate(gsm8k[\"train\"])\n",
    "]\n",
    "\n",
    "# Normalize MATH (uses 'problem' and 'solution' fields)\n",
    "math_data = [\n",
    "    {\n",
    "        \"source\": \"math\",\n",
    "        \"id\": f\"math_{i}\",\n",
    "        \"question\": item[\"problem\"],\n",
    "        \"ground_truth\": item[\"solution\"],\n",
    "    }\n",
    "    for i, item in enumerate(math[\"train\"])\n",
    "]\n",
    "\n",
    "# Combine and convert to DataFrame\n",
    "combined_data = gsm8k_data + math_data\n",
    "df = pd.DataFrame(combined_data)\n",
    "\n",
    "print(f\"✅ Combined dataset with {len(df)} samples\")\n",
    "df.sample(3)\n"
   ]
  },
  {
   "cell_type": "markdown",
   "id": "0334eb34",
   "metadata": {},
   "source": [
    "# Use only 100 samples"
   ]
  },
  {
   "cell_type": "code",
   "execution_count": 4,
   "id": "046a2419",
   "metadata": {},
   "outputs": [
    {
     "name": "stdout",
     "output_type": "stream",
     "text": [
      "✅ New dataframe created with 100 rows.\n"
     ]
    },
    {
     "data": {
      "text/html": [
       "<div>\n",
       "<style scoped>\n",
       "    .dataframe tbody tr th:only-of-type {\n",
       "        vertical-align: middle;\n",
       "    }\n",
       "\n",
       "    .dataframe tbody tr th {\n",
       "        vertical-align: top;\n",
       "    }\n",
       "\n",
       "    .dataframe thead th {\n",
       "        text-align: right;\n",
       "    }\n",
       "</style>\n",
       "<table border=\"1\" class=\"dataframe\">\n",
       "  <thead>\n",
       "    <tr style=\"text-align: right;\">\n",
       "      <th></th>\n",
       "      <th>source</th>\n",
       "      <th>id</th>\n",
       "      <th>question</th>\n",
       "      <th>ground_truth</th>\n",
       "    </tr>\n",
       "  </thead>\n",
       "  <tbody>\n",
       "    <tr>\n",
       "      <th>19</th>\n",
       "      <td>math</td>\n",
       "      <td>math_11374</td>\n",
       "      <td>Sarah bought two t-shirts and one sweatshirt. The t-shirts cost $\\$15.22$ each. If Sarah spent a total of $\\$67.94,$ how many dollars did the sweatshirt cost? Express your answer as a decimal to the nearest hundredth.</td>\n",
       "      <td>The amount she spent on t-shirts is $$15.22 +15.22 = (15+15)+ (0.22+0.22) = 30 + 0.44 = 30.44$$dollars.\\n\\nTherefore, Sarah must have spent the remaining $67.94 - 30.44$ dollars on sweatshirts. We can organize the subtraction concisely using columns as follows:  \\[\\n\\begin{array}{@{}c@{}c@{}c@{}c@{}c}\\n&amp; 6 &amp; 7. &amp; 9 &amp; 4 \\\\\\n- &amp; 3 &amp; 0. &amp; 4 &amp; 4\\n\\\\ \\cline{1-5}\\n&amp; 3 &amp; 7. &amp; 5 &amp; 0 \\\\\\n\\end{array}\\n\\]Our answer is $\\boxed{37.50}$.</td>\n",
       "    </tr>\n",
       "  </tbody>\n",
       "</table>\n",
       "</div>"
      ],
      "text/plain": [
       "   source          id  \\\n",
       "19   math  math_11374   \n",
       "\n",
       "                                                                                                                                                                                                                     question  \\\n",
       "19  Sarah bought two t-shirts and one sweatshirt. The t-shirts cost $\\$15.22$ each. If Sarah spent a total of $\\$67.94,$ how many dollars did the sweatshirt cost? Express your answer as a decimal to the nearest hundredth.   \n",
       "\n",
       "                                                                                                                                                                                                                                                                                                                                                                                                                                   ground_truth  \n",
       "19  The amount she spent on t-shirts is $$15.22 +15.22 = (15+15)+ (0.22+0.22) = 30 + 0.44 = 30.44$$dollars.\\n\\nTherefore, Sarah must have spent the remaining $67.94 - 30.44$ dollars on sweatshirts. We can organize the subtraction concisely using columns as follows:  \\[\\n\\begin{array}{@{}c@{}c@{}c@{}c@{}c}\\n& 6 & 7. & 9 & 4 \\\\\\n- & 3 & 0. & 4 & 4\\n\\\\ \\cline{1-5}\\n& 3 & 7. & 5 & 0 \\\\\\n\\end{array}\\n\\]Our answer is $\\boxed{37.50}$.  "
      ]
     },
     "execution_count": 4,
     "metadata": {},
     "output_type": "execute_result"
    }
   ],
   "source": [
    "df = df.sample(n=100, random_state=42).reset_index(drop=True)\n",
    "print(f\"✅ New dataframe created with {len(df)} rows.\")\n",
    "pd.set_option('display.max_colwidth', None)\n",
    "df.sample(1)"
   ]
  },
  {
   "cell_type": "markdown",
   "id": "3b8b8863",
   "metadata": {},
   "source": [
    "# Add Final Answer Column"
   ]
  },
  {
   "cell_type": "code",
   "execution_count": 5,
   "id": "caadbae1",
   "metadata": {},
   "outputs": [
    {
     "name": "stdout",
     "output_type": "stream",
     "text": [
      "✅ Added 'numerical_answer' column.\n"
     ]
    },
    {
     "data": {
      "text/html": [
       "<div>\n",
       "<style scoped>\n",
       "    .dataframe tbody tr th:only-of-type {\n",
       "        vertical-align: middle;\n",
       "    }\n",
       "\n",
       "    .dataframe tbody tr th {\n",
       "        vertical-align: top;\n",
       "    }\n",
       "\n",
       "    .dataframe thead th {\n",
       "        text-align: right;\n",
       "    }\n",
       "</style>\n",
       "<table border=\"1\" class=\"dataframe\">\n",
       "  <thead>\n",
       "    <tr style=\"text-align: right;\">\n",
       "      <th></th>\n",
       "      <th>source</th>\n",
       "      <th>id</th>\n",
       "      <th>question</th>\n",
       "      <th>ground_truth</th>\n",
       "      <th>numerical_answer</th>\n",
       "    </tr>\n",
       "  </thead>\n",
       "  <tbody>\n",
       "    <tr>\n",
       "      <th>57</th>\n",
       "      <td>math</td>\n",
       "      <td>math_552</td>\n",
       "      <td>A lattice point is a point whose coordinates are both integers. How many lattice points are on the boundary or inside the region bounded by $y=|x|$ and $y=-x^2+6$?</td>\n",
       "      <td>The graph of the two equations is shown below:\\n\\n[asy]\\nLabel f;\\n\\nf.p=fontsize(4);\\n\\nxaxis(-3,3,Ticks(f, 2.0));\\n\\nyaxis(-1,7,Ticks(f, 2.0));\\n\\nreal f(real x)\\n\\n{\\n\\nreturn abs(x);\\n\\n}\\n\\ndraw(graph(f,-3,3), linewidth(1));\\nreal g(real x)\\n\\n{\\n\\nreturn -x^2+6;\\n\\n}\\n\\ndraw(graph(g,-2.5,2.5), linewidth(1));\\n[/asy]\\n\\nWe first find the $x$ values at which the two equations intersect. When $x\\ge 0$, $y=|x|=x$. Plugging this into the second equation to eliminate $y$, we get $x=-x^2+6\\Rightarrow x^2+x-6=0$. Factoring the left hand side gives $(x+3)(x-2)=0$, so $x=2$ (since we stated the $x$ was non-negative). By symmetry, the $x$ value of the left intersection is $x=-2$. So we just have to consider the integer $x$ values between these two bounds and find all integer $y$ values that make the point $(x,y)$ fall inside the region.\\n\\nFor $x=-2$, there is 1 point that works: $(-2,2)$. For $x=-1$, the value of $y=|x|$ is $y=1$ and the value of $y=-x^2+6$ is $y=5$, so all $y$ values between 1 and 5 inclusive work, for a total of 5 points. For $x=0$, the value of $y=|x|$ is $y=0$ and the value of $y=-x^2+6$ is $y=6$, so all $y$ values between 0 and 6 inclusive work, for a total of 7 points. By symmetry, when $x=1$, there are 5 points that work, and when $x=2$, there is 1 point that works.\\n\\nIn total, there are $1+5+7+5+1=\\boxed{19}$ lattice points in the region or on the boundary.</td>\n",
       "      <td>19</td>\n",
       "    </tr>\n",
       "    <tr>\n",
       "      <th>6</th>\n",
       "      <td>math</td>\n",
       "      <td>math_1599</td>\n",
       "      <td>A point $(3\\sqrt{5},d+3)$ is $3d$ units away from the origin. What is the smallest possible value of $d$?</td>\n",
       "      <td>By the distance formula, the distance between the origin and $(3\\sqrt{5},d+3)$ is $\\sqrt{(3\\sqrt{5})^2+(d+3)^2}$. Setting this equal to $3d$, we have  \\begin{align*}\\n9d^2&amp;=(3\\sqrt{5})^2+(d+3)^2\\\\\\n9d^2&amp;=45+d^2+6d+9\\\\\\n8d^2-6d-54&amp;=0\\\\\\n4d^2-3d-27&amp;=0\\\\\\n(4d+9)(d-3)&amp;=0\\n\\end{align*}Thus, the values of $d$ are $-\\frac{9}{4}$ and $3$. We find that $-\\frac{9}{4}$ is an extraneous answer (since distance cannot be negative), so our answer is $d=\\boxed{3}$.</td>\n",
       "      <td>3</td>\n",
       "    </tr>\n",
       "    <tr>\n",
       "      <th>76</th>\n",
       "      <td>math</td>\n",
       "      <td>math_968</td>\n",
       "      <td>If $x^2+y^2=1$, what is the largest possible value of $|x|+|y|$?</td>\n",
       "      <td>If $(x,y)$ lies on the circle, so does $(x,-y),$ $(-x,-y),$ and $(-x,-y),$ (which all give the same value of $|x| + |y|$), so we can assume that $x \\ge 0$ and $y \\ge 0.$\\n\\nThen $|x| + |y| = x + y.$  Squaring, we get\\n\\[(x + y)^2 = x^2 + 2xy + y^2 = 1 + 2xy.\\]Note that $(x - y)^2 \\ge 0.$  Expanding, we get $x^2 - 2xy + y^2 \\ge 0,$ so $2xy \\le x^2 + y^2 = 1.$  Hence,\\n\\[1 + 2xy \\le 2,\\]which means $x + y \\le \\sqrt{2}.$  Equality occurs when $x = y = \\frac{1}{\\sqrt{2}},$ so the maximum value of $|x| + |y|$ is $\\boxed{\\sqrt{2}}.$</td>\n",
       "      <td>\\sqrt{2}</td>\n",
       "    </tr>\n",
       "  </tbody>\n",
       "</table>\n",
       "</div>"
      ],
      "text/plain": [
       "   source         id  \\\n",
       "57   math   math_552   \n",
       "6    math  math_1599   \n",
       "76   math   math_968   \n",
       "\n",
       "                                                                                                                                                               question  \\\n",
       "57  A lattice point is a point whose coordinates are both integers. How many lattice points are on the boundary or inside the region bounded by $y=|x|$ and $y=-x^2+6$?   \n",
       "6                                                             A point $(3\\sqrt{5},d+3)$ is $3d$ units away from the origin. What is the smallest possible value of $d$?   \n",
       "76                                                                                                     If $x^2+y^2=1$, what is the largest possible value of $|x|+|y|$?   \n",
       "\n",
       "                                                                                                                                                                                                                                                                                                                                                                                                                                                                                                                                                                                                                                                                                                                                                                                                                                                                                                                                                                                                                                                                                                                                                                                                                                                                                                                                                                                                                                                 ground_truth  \\\n",
       "57  The graph of the two equations is shown below:\\n\\n[asy]\\nLabel f;\\n\\nf.p=fontsize(4);\\n\\nxaxis(-3,3,Ticks(f, 2.0));\\n\\nyaxis(-1,7,Ticks(f, 2.0));\\n\\nreal f(real x)\\n\\n{\\n\\nreturn abs(x);\\n\\n}\\n\\ndraw(graph(f,-3,3), linewidth(1));\\nreal g(real x)\\n\\n{\\n\\nreturn -x^2+6;\\n\\n}\\n\\ndraw(graph(g,-2.5,2.5), linewidth(1));\\n[/asy]\\n\\nWe first find the $x$ values at which the two equations intersect. When $x\\ge 0$, $y=|x|=x$. Plugging this into the second equation to eliminate $y$, we get $x=-x^2+6\\Rightarrow x^2+x-6=0$. Factoring the left hand side gives $(x+3)(x-2)=0$, so $x=2$ (since we stated the $x$ was non-negative). By symmetry, the $x$ value of the left intersection is $x=-2$. So we just have to consider the integer $x$ values between these two bounds and find all integer $y$ values that make the point $(x,y)$ fall inside the region.\\n\\nFor $x=-2$, there is 1 point that works: $(-2,2)$. For $x=-1$, the value of $y=|x|$ is $y=1$ and the value of $y=-x^2+6$ is $y=5$, so all $y$ values between 1 and 5 inclusive work, for a total of 5 points. For $x=0$, the value of $y=|x|$ is $y=0$ and the value of $y=-x^2+6$ is $y=6$, so all $y$ values between 0 and 6 inclusive work, for a total of 7 points. By symmetry, when $x=1$, there are 5 points that work, and when $x=2$, there is 1 point that works.\\n\\nIn total, there are $1+5+7+5+1=\\boxed{19}$ lattice points in the region or on the boundary.   \n",
       "6                                                                                                                                                                                                                                                                                                                                                                                                                                                                                                                                                                                                                                                                                                                                                                                                                                                                                                                                                                                       By the distance formula, the distance between the origin and $(3\\sqrt{5},d+3)$ is $\\sqrt{(3\\sqrt{5})^2+(d+3)^2}$. Setting this equal to $3d$, we have  \\begin{align*}\\n9d^2&=(3\\sqrt{5})^2+(d+3)^2\\\\\\n9d^2&=45+d^2+6d+9\\\\\\n8d^2-6d-54&=0\\\\\\n4d^2-3d-27&=0\\\\\\n(4d+9)(d-3)&=0\\n\\end{align*}Thus, the values of $d$ are $-\\frac{9}{4}$ and $3$. We find that $-\\frac{9}{4}$ is an extraneous answer (since distance cannot be negative), so our answer is $d=\\boxed{3}$.   \n",
       "76                                                                                                                                                                                                                                                                                                                                                                                                                                                                                                                                                                                                                                                                                                                                                                                                                                                                                                       If $(x,y)$ lies on the circle, so does $(x,-y),$ $(-x,-y),$ and $(-x,-y),$ (which all give the same value of $|x| + |y|$), so we can assume that $x \\ge 0$ and $y \\ge 0.$\\n\\nThen $|x| + |y| = x + y.$  Squaring, we get\\n\\[(x + y)^2 = x^2 + 2xy + y^2 = 1 + 2xy.\\]Note that $(x - y)^2 \\ge 0.$  Expanding, we get $x^2 - 2xy + y^2 \\ge 0,$ so $2xy \\le x^2 + y^2 = 1.$  Hence,\\n\\[1 + 2xy \\le 2,\\]which means $x + y \\le \\sqrt{2}.$  Equality occurs when $x = y = \\frac{1}{\\sqrt{2}},$ so the maximum value of $|x| + |y|$ is $\\boxed{\\sqrt{2}}.$   \n",
       "\n",
       "   numerical_answer  \n",
       "57               19  \n",
       "6                 3  \n",
       "76         \\sqrt{2}  "
      ]
     },
     "execution_count": 5,
     "metadata": {},
     "output_type": "execute_result"
    }
   ],
   "source": [
    "import re\n",
    "\n",
    "# Function to extract the numerical answer\n",
    "def extract_numerical_answer(answer, source):\n",
    "    if source == \"gsm8k\":\n",
    "        # Extract the last number after '####' for gsm8k\n",
    "        match = re.search(r\"####\\s*([\\d.]+)\", answer)\n",
    "        return match.group(1) if match else None\n",
    "    elif source == \"math\":\n",
    "        # Extract the value inside \\boxed{} for math, accounting for nested brackets\n",
    "        match = re.search(r\"\\\\boxed\\{((?:[^\\{\\}]|\\{(?:[^\\{\\}]|\\{[^\\{\\}]*\\})*\\})*)\\}\", answer)\n",
    "        return match.group(1) if match else None\n",
    "\n",
    "\n",
    "# Apply the function to create a new column\n",
    "df[\"numerical_answer\"] = df.apply(lambda row: extract_numerical_answer(row[\"ground_truth\"], row[\"source\"]), axis=1)\n",
    "\n",
    "print(\"✅ Added 'numerical_answer' column.\")\n",
    "df.sample(3)\n",
    "\n"
   ]
  },
  {
   "cell_type": "markdown",
   "id": "35a744be",
   "metadata": {},
   "source": [
    "# Prompt GPT-4o mini"
   ]
  },
  {
   "cell_type": "code",
   "execution_count": 11,
   "id": "77f0e437",
   "metadata": {},
   "outputs": [
    {
     "name": "stdout",
     "output_type": "stream",
     "text": [
      "Model: gpt-4o-mini\n"
     ]
    }
   ],
   "source": [
    "from langchain.chat_models import ChatOpenAI\n",
    "from langchain.schema import HumanMessage\n",
    "\n",
    "# Initialize GPT-4 chat model\n",
    "llm = ChatOpenAI(\n",
    "    model=\"gpt-4o-mini\", \n",
    "    temperature=0.0,\n",
    "    max_tokens=1200,\n",
    "    openai_api_key=api_key)\n",
    "\n",
    "print(f\"Model: {llm.model_name}\")"
   ]
  },
  {
   "cell_type": "code",
   "execution_count": 12,
   "id": "6fec0579",
   "metadata": {},
   "outputs": [
    {
     "name": "stdout",
     "output_type": "stream",
     "text": [
      "Sample Math Question:\n",
      "The Greek army contained two types of soldiers: the upper class and the lower class soldiers. If there were a total of 5 upper class soldiers, and 10 lower class soldiers in a certain part of Athens, and the battle of Thermopylae demands a force of 4 upper class soldiers and 8 lower class soldiers, how many different battalions can be sent?\n",
      "\n",
      "\n",
      "GPT-4 Response:\n",
      "To solve the problem, we need to determine how many different combinations of soldiers can be selected to form a battalion that meets the specified requirements of 4 upper class soldiers and 8 lower class soldiers.\n",
      "\n",
      "1. **Identify the total number of soldiers available**:\n",
      "   - Upper class soldiers: 5\n",
      "   - Lower class soldiers: 10\n",
      "\n",
      "2. **Determine the required number of soldiers for the battalion**:\n",
      "   - Required upper class soldiers: 4\n",
      "   - Required lower class soldiers: 8\n",
      "\n",
      "3. **Check if the requirements can be met**:\n",
      "   - We have 5 upper class soldiers and need to choose 4. This is possible since 4 ≤ 5.\n",
      "   - We have 10 lower class soldiers and need to choose 8. This is also possible since 8 ≤ 10.\n",
      "\n",
      "4. **Calculate the number of ways to choose the upper class soldiers**:\n",
      "   - The number of ways to choose 4 upper class soldiers from 5 can be calculated using the combination formula:\n",
      "     \\[\n",
      "     \\binom{n}{r} = \\frac{n!}{r!(n-r)!}\n",
      "     \\]\n",
      "   - Here, \\( n = 5 \\) and \\( r = 4 \\):\n",
      "     \\[\n",
      "     \\binom{5}{4} = \\frac{5!}{4!(5-4)!} = \\frac{5!}{4! \\cdot 1!} = \\frac{5 \\cdot 4!}{4! \\cdot 1} = 5\n",
      "     \\]\n",
      "\n",
      "5. **Calculate the number of ways to choose the lower class soldiers**:\n",
      "   - The number of ways to choose 8 lower class soldiers from 10 can also be calculated using the combination formula:\n",
      "   - Here, \\( n = 10 \\) and \\( r = 8 \\):\n",
      "     \\[\n",
      "     \\binom{10}{8} = \\frac{10!}{8!(10-8)!} = \\frac{10!}{8! \\cdot 2!} = \\frac{10 \\cdot 9}{2 \\cdot 1} = 45\n",
      "     \\]\n",
      "\n",
      "6. **Calculate the total number of different battalions**:\n",
      "   - The total number of different battalions can be found by multiplying the number of ways to choose the upper class soldiers by the number of ways to choose the lower class soldiers:\n",
      "     \\[\n",
      "     \\text{Total battalions} = \\binom{5}{4} \\times \\binom{10}{8} = 5 \\times 45 = 225\n",
      "     \\]\n",
      "\n",
      "Thus, the total number of different battalions that can be sent is:\n",
      "\n",
      "#### 225\n",
      "\n",
      "\n",
      "Ground Truth:\n",
      " By the distance formula, the distance between the origin and $(3\\sqrt{5},d+3)$ is $\\sqrt{(3\\sqrt{5})^2+(d+3)^2}$. Setting this equal to $3d$, we have  \\begin{align*}\n",
      "9d^2&=(3\\sqrt{5})^2+(d+3)^2\\\\\n",
      "9d^2&=45+d^2+6d+9\\\\\n",
      "8d^2-6d-54&=0\\\\\n",
      "4d^2-3d-27&=0\\\\\n",
      "(4d+9)(d-3)&=0\n",
      "\\end{align*}Thus, the values of $d$ are $-\\frac{9}{4}$ and $3$. We find that $-\\frac{9}{4}$ is an extraneous answer (since distance cannot be negative), so our answer is $d=\\boxed{3}$.\n"
     ]
    }
   ],
   "source": [
    "# Define a math question\n",
    "math_question = df.sample(1)[\"question\"].values[0]\n",
    "print(f\"Sample Math Question:\\n{math_question}\\n\\n\")\n",
    "\n",
    "# Create a prompt for GPT-4o mini\n",
    "math_prompt = f\"You are a helpful mathematical assistant. Solve the following problem step by step, cleary explaining \\\n",
    "    explaining your reasoning. At the end, provide the final numerical answer on a new line, following the format: \\\n",
    "    \\n\\n #### <answer>\\n\\n Question: {math_question} \\n\\n\"\n",
    "\n",
    "# Generate a response using GPT-4o mini\n",
    "math_response = llm([HumanMessage(content=math_prompt)])\n",
    "\n",
    "# Extract and print the response\n",
    "print(f\"GPT-4 Response:\\n{math_response.content}\\n\\n\")\n",
    "print(\"Ground Truth:\\n\", df.sample(1)[\"ground_truth\"].values[0])"
   ]
  },
  {
   "cell_type": "code",
   "execution_count": 14,
   "id": "6144d9b8",
   "metadata": {},
   "outputs": [
    {
     "name": "stderr",
     "output_type": "stream",
     "text": [
      "100%|██████████| 100/100 [18:23<00:00, 11.03s/it]"
     ]
    },
    {
     "name": "stdout",
     "output_type": "stream",
     "text": [
      "✅ GPT-4o mini responses added to the dataframe.\n"
     ]
    },
    {
     "name": "stderr",
     "output_type": "stream",
     "text": [
      "\n"
     ]
    },
    {
     "data": {
      "text/html": [
       "<div>\n",
       "<style scoped>\n",
       "    .dataframe tbody tr th:only-of-type {\n",
       "        vertical-align: middle;\n",
       "    }\n",
       "\n",
       "    .dataframe tbody tr th {\n",
       "        vertical-align: top;\n",
       "    }\n",
       "\n",
       "    .dataframe thead th {\n",
       "        text-align: right;\n",
       "    }\n",
       "</style>\n",
       "<table border=\"1\" class=\"dataframe\">\n",
       "  <thead>\n",
       "    <tr style=\"text-align: right;\">\n",
       "      <th></th>\n",
       "      <th>source</th>\n",
       "      <th>id</th>\n",
       "      <th>question</th>\n",
       "      <th>ground_truth</th>\n",
       "      <th>numerical_answer</th>\n",
       "      <th>GPT-4o mini response</th>\n",
       "      <th>GPT-4o mini final answer</th>\n",
       "    </tr>\n",
       "  </thead>\n",
       "  <tbody>\n",
       "    <tr>\n",
       "      <th>23</th>\n",
       "      <td>gsm8k</td>\n",
       "      <td>gsm8k_3222</td>\n",
       "      <td>Nicole collected 400 Pokemon cards. Cindy collected twice as many, and Rex collected half of Nicole and Cindy's combined total. If Rex divided his card equally among himself and his three younger siblings, how many cards does Rex have left?</td>\n",
       "      <td>Cindy has 400 x 2 = &lt;&lt;400*2=800&gt;&gt;800 cards.\\nNicole and Cindy have 400 + 800 = &lt;&lt;400+800=1200&gt;&gt;1200 cards.\\nRex has 1200/2 = &lt;&lt;1200/2=600&gt;&gt;600 cards.\\nRex is left with 600/(3+1=4) = &lt;&lt;600/4=150&gt;&gt;150 cards\\n#### 150</td>\n",
       "      <td>150</td>\n",
       "      <td>To solve the problem, we will break it down step by step.\\n\\n1. **Determine how many cards Cindy collected:**\\n   - Nicole collected 400 Pokemon cards.\\n   - Cindy collected twice as many as Nicole.\\n   - Therefore, Cindy's total is:\\n     \\[\\n     \\text{Cindy's cards} = 2 \\times \\text{Nicole's cards} = 2 \\times 400 = 800\\n     \\]\\n\\n2. **Calculate the combined total of Nicole and Cindy's cards:**\\n   - We add the number of cards Nicole and Cindy collected:\\n     \\[\\n     \\text{Combined total} = \\text{Nicole's cards} + \\text{Cindy's cards} = 400 + 800 = 1200\\n     \\]\\n\\n3. **Determine how many cards Rex collected:**\\n   - Rex collected half of the combined total of Nicole and Cindy's cards.\\n   - Therefore, Rex's total is:\\n     \\[\\n     \\text{Rex's cards} = \\frac{1}{2} \\times \\text{Combined total} = \\frac{1}{2} \\times 1200 = 600\\n     \\]\\n\\n4. **Calculate how many cards Rex has after dividing them among himself and his three siblings:**\\n   - Rex has 3 younger siblings, which means there are 4 people in total (Rex + 3 siblings).\\n   - If Rex divides his 600 cards equally among the 4 of them, each person gets:\\n     \\[\\n     \\text{Cards per person} = \\frac{\\text{Rex's cards}}{4} = \\frac{600}{4} = 150\\n     \\]\\n\\n5. **Determine how many cards Rex has left after the division:**\\n   - Since Rex has 150 cards after the division, he does not have any cards left for himself. Therefore, the number of cards Rex has left is:\\n     \\[\\n     \\text{Rex's remaining cards} = 0\\n     \\]\\n\\nThus, the final answer is:\\n\\n#### 0</td>\n",
       "      <td>0</td>\n",
       "    </tr>\n",
       "    <tr>\n",
       "      <th>10</th>\n",
       "      <td>gsm8k</td>\n",
       "      <td>gsm8k_2748</td>\n",
       "      <td>The price of a book was $400. If the book's price is decreased by 15% and then increased by 40%, what is the final price of the book?</td>\n",
       "      <td>When the price of the book is decreased by 15%, the total price decrease is 15/100*$400=$&lt;&lt;15/100*400=60&gt;&gt;60\\nThe new price of the book becomes $400-$60 = $&lt;&lt;400-60=340&gt;&gt;340\\nThe price of the book is then increased by 40/100*340 = $&lt;&lt;40/100*340=136&gt;&gt;136\\nThe final price of the book is $340+$136 = $&lt;&lt;340+136=476&gt;&gt;476\\n#### 476</td>\n",
       "      <td>476</td>\n",
       "      <td>To solve the problem, we will follow these steps:\\n\\n1. **Calculate the decrease in price**: The book's original price is $400. We need to find 15% of this price to determine how much the price decreases.\\n\\n   \\[\\n   \\text{Decrease} = 15\\% \\text{ of } 400 = 0.15 \\times 400 = 60\\n   \\]\\n\\n   Now, we subtract this decrease from the original price:\\n\\n   \\[\\n   \\text{New Price after Decrease} = 400 - 60 = 340\\n   \\]\\n\\n2. **Calculate the increase in price**: Next, we need to find 40% of the new price ($340) to determine how much the price increases.\\n\\n   \\[\\n   \\text{Increase} = 40\\% \\text{ of } 340 = 0.40 \\times 340 = 136\\n   \\]\\n\\n   Now, we add this increase to the new price:\\n\\n   \\[\\n   \\text{Final Price} = 340 + 136 = 476\\n   \\]\\n\\nThus, the final price of the book after the decrease and increase is $476.\\n\\nThe final answer is:\\n\\n#### 476</td>\n",
       "      <td>476</td>\n",
       "    </tr>\n",
       "    <tr>\n",
       "      <th>3</th>\n",
       "      <td>math</td>\n",
       "      <td>math_7539</td>\n",
       "      <td>Expand $(2x^5 + 3x^2)(x^4 - 4x^2 + 3x - 8)$.</td>\n",
       "      <td>Using the distributive property, we have \\begin{align*}\\n&amp;(2x^5 + 3x^2)(x^4 - 4x^2 + 3x - 8) \\\\\\n&amp;\\qquad= 2x^5(x^4 - 4x^2 + 3x - 8) + 3x^2(x^4 - 4x^2 + 3x - 8) \\\\\\n&amp;\\qquad= 2x^9 - 8x^7 + 6x^6 - 16x^5 + 3x^6 - 12x^4 + 9x^3 - 24x^2 \\\\\\n&amp;\\qquad= \\boxed{2x^9 - 8x^7 + 9x^6 - 16x^5 - 12x^4 + 9x^3 - 24x^2}.\\n\\end{align*}</td>\n",
       "      <td>2x^9 - 8x^7 + 9x^6 - 16x^5 - 12x^4 + 9x^3 - 24x^2</td>\n",
       "      <td>To expand the expression \\((2x^5 + 3x^2)(x^4 - 4x^2 + 3x - 8)\\), we will use the distributive property, also known as the FOIL method for binomials, but in this case, we will distribute each term in the first polynomial to each term in the second polynomial.\\n\\n1. **Distributing \\(2x^5\\)**:\\n   - \\(2x^5 \\cdot x^4 = 2x^{5+4} = 2x^9\\)\\n   - \\(2x^5 \\cdot (-4x^2) = -8x^{5+2} = -8x^7\\)\\n   - \\(2x^5 \\cdot 3x = 6x^{5+1} = 6x^6\\)\\n   - \\(2x^5 \\cdot (-8) = -16x^5\\)\\n\\n   So, the contributions from \\(2x^5\\) are:\\n   \\[\\n   2x^9 - 8x^7 + 6x^6 - 16x^5\\n   \\]\\n\\n2. **Distributing \\(3x^2\\)**:\\n   - \\(3x^2 \\cdot x^4 = 3x^{2+4} = 3x^6\\)\\n   - \\(3x^2 \\cdot (-4x^2) = -12x^{2+2} = -12x^4\\)\\n   - \\(3x^2 \\cdot 3x = 9x^{2+1} = 9x^3\\)\\n   - \\(3x^2 \\cdot (-8) = -24x^2\\)\\n\\n   So, the contributions from \\(3x^2\\) are:\\n   \\[\\n   3x^6 - 12x^4 + 9x^3 - 24x^2\\n   \\]\\n\\n3. **Combining all contributions**:\\n   Now we combine all the terms we obtained from both distributions:\\n   \\[\\n   2x^9 + (-8x^7) + (6x^6 + 3x^6) + (-16x^5) + (-12x^4) + 9x^3 - 24x^2\\n   \\]\\n\\n   This simplifies to:\\n   \\[\\n   2x^9 - 8x^7 + (6x^6 + 3x^6) - 16x^5 - 12x^4 + 9x^3 - 24x^2\\n   \\]\\n   \\[\\n   = 2x^9 - 8x^7 + 9x^6 - 16x^5 - 12x^4 + 9x^3 - 24x^2\\n   \\]\\n\\n4. **Final expression**:\\n   The final expanded expression is:\\n   \\[\\n   2x^9 - 8x^7 + 9x^6 - 16x^5 - 12x^4 + 9x^3 - 24x^2\\n   \\]\\n\\nThus, the final answer is:\\n\\n#### 2x^9 - 8x^7 + 9x^6 - 16x^5 - 12x^4 + 9x^3 - 24x^2</td>\n",
       "      <td>2x^9 - 8x^7 + 9x^6 - 16x^5 - 12x^4 + 9x^3 - 24x^2</td>\n",
       "    </tr>\n",
       "  </tbody>\n",
       "</table>\n",
       "</div>"
      ],
      "text/plain": [
       "   source          id  \\\n",
       "23  gsm8k  gsm8k_3222   \n",
       "10  gsm8k  gsm8k_2748   \n",
       "3    math   math_7539   \n",
       "\n",
       "                                                                                                                                                                                                                                            question  \\\n",
       "23  Nicole collected 400 Pokemon cards. Cindy collected twice as many, and Rex collected half of Nicole and Cindy's combined total. If Rex divided his card equally among himself and his three younger siblings, how many cards does Rex have left?   \n",
       "10                                                                                                             The price of a book was $400. If the book's price is decreased by 15% and then increased by 40%, what is the final price of the book?   \n",
       "3                                                                                                                                                                                                       Expand $(2x^5 + 3x^2)(x^4 - 4x^2 + 3x - 8)$.   \n",
       "\n",
       "                                                                                                                                                                                                                                                                                                                               ground_truth  \\\n",
       "23                                                                                                                   Cindy has 400 x 2 = <<400*2=800>>800 cards.\\nNicole and Cindy have 400 + 800 = <<400+800=1200>>1200 cards.\\nRex has 1200/2 = <<1200/2=600>>600 cards.\\nRex is left with 600/(3+1=4) = <<600/4=150>>150 cards\\n#### 150   \n",
       "10  When the price of the book is decreased by 15%, the total price decrease is 15/100*$400=$<<15/100*400=60>>60\\nThe new price of the book becomes $400-$60 = $<<400-60=340>>340\\nThe price of the book is then increased by 40/100*340 = $<<40/100*340=136>>136\\nThe final price of the book is $340+$136 = $<<340+136=476>>476\\n#### 476   \n",
       "3               Using the distributive property, we have \\begin{align*}\\n&(2x^5 + 3x^2)(x^4 - 4x^2 + 3x - 8) \\\\\\n&\\qquad= 2x^5(x^4 - 4x^2 + 3x - 8) + 3x^2(x^4 - 4x^2 + 3x - 8) \\\\\\n&\\qquad= 2x^9 - 8x^7 + 6x^6 - 16x^5 + 3x^6 - 12x^4 + 9x^3 - 24x^2 \\\\\\n&\\qquad= \\boxed{2x^9 - 8x^7 + 9x^6 - 16x^5 - 12x^4 + 9x^3 - 24x^2}.\\n\\end{align*}   \n",
       "\n",
       "                                     numerical_answer  \\\n",
       "23                                                150   \n",
       "10                                                476   \n",
       "3   2x^9 - 8x^7 + 9x^6 - 16x^5 - 12x^4 + 9x^3 - 24x^2   \n",
       "\n",
       "                                                                                                                                                                                                                                                                                                                                                                                                                                                                                                                                                                                                                                                                                                                                                                                                                                                                                                                                                                                                                                                                                                                                                                                                                                                                                                                                                                                                                                                                                                                                                                                GPT-4o mini response  \\\n",
       "23  To solve the problem, we will break it down step by step.\\n\\n1. **Determine how many cards Cindy collected:**\\n   - Nicole collected 400 Pokemon cards.\\n   - Cindy collected twice as many as Nicole.\\n   - Therefore, Cindy's total is:\\n     \\[\\n     \\text{Cindy's cards} = 2 \\times \\text{Nicole's cards} = 2 \\times 400 = 800\\n     \\]\\n\\n2. **Calculate the combined total of Nicole and Cindy's cards:**\\n   - We add the number of cards Nicole and Cindy collected:\\n     \\[\\n     \\text{Combined total} = \\text{Nicole's cards} + \\text{Cindy's cards} = 400 + 800 = 1200\\n     \\]\\n\\n3. **Determine how many cards Rex collected:**\\n   - Rex collected half of the combined total of Nicole and Cindy's cards.\\n   - Therefore, Rex's total is:\\n     \\[\\n     \\text{Rex's cards} = \\frac{1}{2} \\times \\text{Combined total} = \\frac{1}{2} \\times 1200 = 600\\n     \\]\\n\\n4. **Calculate how many cards Rex has after dividing them among himself and his three siblings:**\\n   - Rex has 3 younger siblings, which means there are 4 people in total (Rex + 3 siblings).\\n   - If Rex divides his 600 cards equally among the 4 of them, each person gets:\\n     \\[\\n     \\text{Cards per person} = \\frac{\\text{Rex's cards}}{4} = \\frac{600}{4} = 150\\n     \\]\\n\\n5. **Determine how many cards Rex has left after the division:**\\n   - Since Rex has 150 cards after the division, he does not have any cards left for himself. Therefore, the number of cards Rex has left is:\\n     \\[\\n     \\text{Rex's remaining cards} = 0\\n     \\]\\n\\nThus, the final answer is:\\n\\n#### 0   \n",
       "10                                                                                                                                                                                                                                                                                                                                                                                                                                                                                                                                                                                                                                                                                                         To solve the problem, we will follow these steps:\\n\\n1. **Calculate the decrease in price**: The book's original price is $400. We need to find 15% of this price to determine how much the price decreases.\\n\\n   \\[\\n   \\text{Decrease} = 15\\% \\text{ of } 400 = 0.15 \\times 400 = 60\\n   \\]\\n\\n   Now, we subtract this decrease from the original price:\\n\\n   \\[\\n   \\text{New Price after Decrease} = 400 - 60 = 340\\n   \\]\\n\\n2. **Calculate the increase in price**: Next, we need to find 40% of the new price ($340) to determine how much the price increases.\\n\\n   \\[\\n   \\text{Increase} = 40\\% \\text{ of } 340 = 0.40 \\times 340 = 136\\n   \\]\\n\\n   Now, we add this increase to the new price:\\n\\n   \\[\\n   \\text{Final Price} = 340 + 136 = 476\\n   \\]\\n\\nThus, the final price of the book after the decrease and increase is $476.\\n\\nThe final answer is:\\n\\n#### 476   \n",
       "3                                                                                                    To expand the expression \\((2x^5 + 3x^2)(x^4 - 4x^2 + 3x - 8)\\), we will use the distributive property, also known as the FOIL method for binomials, but in this case, we will distribute each term in the first polynomial to each term in the second polynomial.\\n\\n1. **Distributing \\(2x^5\\)**:\\n   - \\(2x^5 \\cdot x^4 = 2x^{5+4} = 2x^9\\)\\n   - \\(2x^5 \\cdot (-4x^2) = -8x^{5+2} = -8x^7\\)\\n   - \\(2x^5 \\cdot 3x = 6x^{5+1} = 6x^6\\)\\n   - \\(2x^5 \\cdot (-8) = -16x^5\\)\\n\\n   So, the contributions from \\(2x^5\\) are:\\n   \\[\\n   2x^9 - 8x^7 + 6x^6 - 16x^5\\n   \\]\\n\\n2. **Distributing \\(3x^2\\)**:\\n   - \\(3x^2 \\cdot x^4 = 3x^{2+4} = 3x^6\\)\\n   - \\(3x^2 \\cdot (-4x^2) = -12x^{2+2} = -12x^4\\)\\n   - \\(3x^2 \\cdot 3x = 9x^{2+1} = 9x^3\\)\\n   - \\(3x^2 \\cdot (-8) = -24x^2\\)\\n\\n   So, the contributions from \\(3x^2\\) are:\\n   \\[\\n   3x^6 - 12x^4 + 9x^3 - 24x^2\\n   \\]\\n\\n3. **Combining all contributions**:\\n   Now we combine all the terms we obtained from both distributions:\\n   \\[\\n   2x^9 + (-8x^7) + (6x^6 + 3x^6) + (-16x^5) + (-12x^4) + 9x^3 - 24x^2\\n   \\]\\n\\n   This simplifies to:\\n   \\[\\n   2x^9 - 8x^7 + (6x^6 + 3x^6) - 16x^5 - 12x^4 + 9x^3 - 24x^2\\n   \\]\\n   \\[\\n   = 2x^9 - 8x^7 + 9x^6 - 16x^5 - 12x^4 + 9x^3 - 24x^2\\n   \\]\\n\\n4. **Final expression**:\\n   The final expanded expression is:\\n   \\[\\n   2x^9 - 8x^7 + 9x^6 - 16x^5 - 12x^4 + 9x^3 - 24x^2\\n   \\]\\n\\nThus, the final answer is:\\n\\n#### 2x^9 - 8x^7 + 9x^6 - 16x^5 - 12x^4 + 9x^3 - 24x^2   \n",
       "\n",
       "                             GPT-4o mini final answer  \n",
       "23                                                  0  \n",
       "10                                                476  \n",
       "3   2x^9 - 8x^7 + 9x^6 - 16x^5 - 12x^4 + 9x^3 - 24x^2  "
      ]
     },
     "execution_count": 14,
     "metadata": {},
     "output_type": "execute_result"
    }
   ],
   "source": [
    "# Generate GPT-4o mini responses for each question in the dataframe\n",
    "from tqdm import tqdm\n",
    "\n",
    "# Initialize a list to store GPT-4o mini responses\n",
    "gpt4o_responses = []\n",
    "gpt4o_final_answers = []\n",
    "\n",
    "# Iterate over each row in the dataframe\n",
    "for _, row in tqdm(df.iterrows(), total=len(df)):\n",
    "    question = row['question']\n",
    "    prompt = f\"You are a helpful mathematical assistant. Solve the following problem step by step, \\\n",
    "        clearly explaining your reasoning. At the end, provide the final numerical answer on a new line, \\\n",
    "        following the format: \\n\\n #### <answer>\\n\\n Question: {question} \\n\\n\"\n",
    "    response = llm([HumanMessage(content=prompt)])\n",
    "    gpt4o_responses.append(response.content)\n",
    "    gpt4o_final_answer = response.content.split(\"####\")[-1].strip()  # Extract the final answer\n",
    "    gpt4o_final_answers.append(gpt4o_final_answer)\n",
    "\n",
    "# Add the responses as a new column in the dataframe\n",
    "df['GPT-4o mini response'] = gpt4o_responses\n",
    "    \n",
    "# Add the final answers to the dataframe\n",
    "df['GPT-4o mini final answer'] = gpt4o_final_answers\n",
    "\n",
    "print(\"✅ GPT-4o mini responses added to the dataframe.\")\n",
    "df.sample(3)"
   ]
  },
  {
   "cell_type": "markdown",
   "id": "2f1b826d",
   "metadata": {},
   "source": [
    "# Check if answers are correct"
   ]
  },
  {
   "cell_type": "code",
   "execution_count": 15,
   "id": "2f178a99",
   "metadata": {},
   "outputs": [
    {
     "name": "stdout",
     "output_type": "stream",
     "text": [
      "Total matches: 62 out of 100\n"
     ]
    }
   ],
   "source": [
    "# Check if GPT-4o mini final answer matches the ground truth numerical answer\n",
    "df['is_correct'] = df['GPT-4o mini final answer'] == df['numerical_answer']\n",
    "\n",
    "# Calculate the total number of matches\n",
    "total_matches = df['is_correct'].sum()\n",
    "\n",
    "print(f\"Total matches: {total_matches} out of {len(df)}\")"
   ]
  },
  {
   "cell_type": "markdown",
   "id": "0dbcaaa6",
   "metadata": {},
   "source": [
    "# Save Dataframe with GPT-4o mini resonses"
   ]
  },
  {
   "cell_type": "code",
   "execution_count": 16,
   "id": "5c3988dd",
   "metadata": {},
   "outputs": [
    {
     "name": "stdout",
     "output_type": "stream",
     "text": [
      "✅ Dataframe saved to data\\gpt4o_mini_responses.csv\n"
     ]
    }
   ],
   "source": [
    "import os\n",
    "\n",
    "# Create the 'data' folder if it doesn't exist\n",
    "output_dir = \"data\"\n",
    "os.makedirs(output_dir, exist_ok=True)\n",
    "\n",
    "# Save the dataframe to a CSV file in the 'data' folder\n",
    "output_file = os.path.join(output_dir, \"gpt4o_mini_responses.csv\")\n",
    "df.to_csv(output_file, index=False)\n",
    "\n",
    "print(f\"✅ Dataframe saved to {output_file}\")"
   ]
  }
 ],
 "metadata": {
  "kernelspec": {
   "display_name": ".venv",
   "language": "python",
   "name": "python3"
  },
  "language_info": {
   "codemirror_mode": {
    "name": "ipython",
    "version": 3
   },
   "file_extension": ".py",
   "mimetype": "text/x-python",
   "name": "python",
   "nbconvert_exporter": "python",
   "pygments_lexer": "ipython3",
   "version": "3.10.11"
  }
 },
 "nbformat": 4,
 "nbformat_minor": 5
}
